{
 "cells": [
  {
   "cell_type": "code",
   "execution_count": 1,
   "metadata": {},
   "outputs": [
    {
     "name": "stderr",
     "output_type": "stream",
     "text": [
      "c:\\Python312\\Lib\\site-packages\\fuzzywuzzy\\fuzz.py:11: UserWarning: Using slow pure-python SequenceMatcher. Install python-Levenshtein to remove this warning\n",
      "  warnings.warn('Using slow pure-python SequenceMatcher. Install python-Levenshtein to remove this warning')\n"
     ]
    }
   ],
   "source": [
    "from json import dumps, loads\n",
    "from pathlib import Path\n",
    "\n",
    "import matplotlib as plt\n",
    "import missingno as msno\n",
    "import numpy as np\n",
    "import pandas as pd\n",
    "from fuzzywuzzy import process\n",
    "\n",
    "import re\n",
    "\n",
    "from utils.nationality_mapper import NationalityMapper\n",
    "from utils.endpoints import save_data_to_json_file, get_lat_lng\n",
    "\n",
    "mapper = NationalityMapper()\n"
   ]
  },
  {
   "cell_type": "code",
   "execution_count": 2,
   "metadata": {},
   "outputs": [],
   "source": [
    "data_path = Path('./data/MetObject_2.json')"
   ]
  },
  {
   "cell_type": "code",
   "execution_count": 3,
   "metadata": {},
   "outputs": [
    {
     "name": "stdout",
     "output_type": "stream",
     "text": [
      "Skipping data download\n"
     ]
    }
   ],
   "source": [
    "if not data_path.exists():\n",
    "    save_data_to_json_file('./data/data.json')\n",
    "else:\n",
    "    print('Skipping data download')"
   ]
  },
  {
   "cell_type": "code",
   "execution_count": 4,
   "metadata": {},
   "outputs": [],
   "source": [
    "# Lectura del json\n",
    "data = pd.read_json('./data/MetObject_2.json')"
   ]
  },
  {
   "cell_type": "code",
   "execution_count": 5,
   "metadata": {},
   "outputs": [],
   "source": [
    "data = data.replace('', np.nan)\n",
    "data = data.replace(' ', np.nan)"
   ]
  },
  {
   "cell_type": "code",
   "execution_count": 6,
   "metadata": {},
   "outputs": [
    {
     "data": {
      "text/plain": [
       "(484956, 54)"
      ]
     },
     "execution_count": 6,
     "metadata": {},
     "output_type": "execute_result"
    }
   ],
   "source": [
    "data.shape"
   ]
  },
  {
   "cell_type": "code",
   "execution_count": 7,
   "metadata": {},
   "outputs": [
    {
     "data": {
      "text/plain": [
       "objectNumber             object\n",
       "isHighlight               object\n",
       "isTimelineWork            object\n",
       "isPublicDomain            object\n",
       "objectID                   int64\n",
       "galleryNumber             object\n",
       "department                object\n",
       "accessionYear             object\n",
       "objectName                object\n",
       "title                     object\n",
       "culture                   object\n",
       "period                    object\n",
       "dynasty                   object\n",
       "reign                     object\n",
       "portfolio                 object\n",
       "constituentID             object\n",
       "artistRole                object\n",
       "artistPrefix              object\n",
       "artistDisplayName         object\n",
       "artistDisplayBio          object\n",
       "artistSuffix              object\n",
       "artistAlphaSort           object\n",
       "artistNationality         object\n",
       "artistBeginDate           object\n",
       "artistEndDate             object\n",
       "artistGender              object\n",
       "artistUlanUrl             object\n",
       "artistWikidataUrl         object\n",
       "objectDate                object\n",
       "objectBeginDate            int64\n",
       "objectEndDate              int64\n",
       "medium                    object\n",
       "dimensions                object\n",
       "creditLine                object\n",
       "geographyType             object\n",
       "city                      object\n",
       "state                     object\n",
       "county                    object\n",
       "country                   object\n",
       "region                    object\n",
       "subregion                 object\n",
       "locale                    object\n",
       "locus                     object\n",
       "excavation                object\n",
       "river                     object\n",
       "classification            object\n",
       "rightsAndReproduction     object\n",
       "linkResource              object\n",
       "objectWikidataUrl         object\n",
       "metadataDate             float64\n",
       "repository                object\n",
       "tags                      object\n",
       "tagsAatUrl                object\n",
       "tagsWikiUrl               object\n",
       "dtype: object"
      ]
     },
     "execution_count": 7,
     "metadata": {},
     "output_type": "execute_result"
    }
   ],
   "source": [
    "data.dtypes"
   ]
  },
  {
   "cell_type": "code",
   "execution_count": 8,
   "metadata": {},
   "outputs": [
    {
     "data": {
      "text/html": [
       "<div>\n",
       "<style scoped>\n",
       "    .dataframe tbody tr th:only-of-type {\n",
       "        vertical-align: middle;\n",
       "    }\n",
       "\n",
       "    .dataframe tbody tr th {\n",
       "        vertical-align: top;\n",
       "    }\n",
       "\n",
       "    .dataframe thead th {\n",
       "        text-align: right;\n",
       "    }\n",
       "</style>\n",
       "<table border=\"1\" class=\"dataframe\">\n",
       "  <thead>\n",
       "    <tr style=\"text-align: right;\">\n",
       "      <th></th>\n",
       "      <th>objectID</th>\n",
       "      <th>objectBeginDate</th>\n",
       "      <th>objectEndDate</th>\n",
       "      <th>metadataDate</th>\n",
       "    </tr>\n",
       "  </thead>\n",
       "  <tbody>\n",
       "    <tr>\n",
       "      <th>count</th>\n",
       "      <td>484956.000000</td>\n",
       "      <td>484956.000000</td>\n",
       "      <td>484956.000000</td>\n",
       "      <td>0.0</td>\n",
       "    </tr>\n",
       "    <tr>\n",
       "      <th>mean</th>\n",
       "      <td>394499.940353</td>\n",
       "      <td>1303.913734</td>\n",
       "      <td>1402.978142</td>\n",
       "      <td>NaN</td>\n",
       "    </tr>\n",
       "    <tr>\n",
       "      <th>std</th>\n",
       "      <td>242732.561637</td>\n",
       "      <td>1710.259182</td>\n",
       "      <td>1132.101347</td>\n",
       "      <td>NaN</td>\n",
       "    </tr>\n",
       "    <tr>\n",
       "      <th>min</th>\n",
       "      <td>1.000000</td>\n",
       "      <td>-400000.000000</td>\n",
       "      <td>-240000.000000</td>\n",
       "      <td>NaN</td>\n",
       "    </tr>\n",
       "    <tr>\n",
       "      <th>25%</th>\n",
       "      <td>212379.750000</td>\n",
       "      <td>1535.000000</td>\n",
       "      <td>1593.000000</td>\n",
       "      <td>NaN</td>\n",
       "    </tr>\n",
       "    <tr>\n",
       "      <th>50%</th>\n",
       "      <td>374771.500000</td>\n",
       "      <td>1800.000000</td>\n",
       "      <td>1840.000000</td>\n",
       "      <td>NaN</td>\n",
       "    </tr>\n",
       "    <tr>\n",
       "      <th>75%</th>\n",
       "      <td>570971.250000</td>\n",
       "      <td>1891.000000</td>\n",
       "      <td>1905.000000</td>\n",
       "      <td>NaN</td>\n",
       "    </tr>\n",
       "    <tr>\n",
       "      <th>max</th>\n",
       "      <td>900748.000000</td>\n",
       "      <td>5000.000000</td>\n",
       "      <td>2870.000000</td>\n",
       "      <td>NaN</td>\n",
       "    </tr>\n",
       "  </tbody>\n",
       "</table>\n",
       "</div>"
      ],
      "text/plain": [
       "            objectID  objectBeginDate  objectEndDate  metadataDate\n",
       "count  484956.000000    484956.000000  484956.000000           0.0\n",
       "mean   394499.940353      1303.913734    1402.978142           NaN\n",
       "std    242732.561637      1710.259182    1132.101347           NaN\n",
       "min         1.000000   -400000.000000 -240000.000000           NaN\n",
       "25%    212379.750000      1535.000000    1593.000000           NaN\n",
       "50%    374771.500000      1800.000000    1840.000000           NaN\n",
       "75%    570971.250000      1891.000000    1905.000000           NaN\n",
       "max    900748.000000      5000.000000    2870.000000           NaN"
      ]
     },
     "execution_count": 8,
     "metadata": {},
     "output_type": "execute_result"
    }
   ],
   "source": [
    "data.describe()\n",
    "#Dada la naturaleza de los datos esto no tiene mucho sentido y utilidad"
   ]
  },
  {
   "cell_type": "code",
   "execution_count": 9,
   "metadata": {},
   "outputs": [
    {
     "data": {
      "text/html": [
       "<div>\n",
       "<style scoped>\n",
       "    .dataframe tbody tr th:only-of-type {\n",
       "        vertical-align: middle;\n",
       "    }\n",
       "\n",
       "    .dataframe tbody tr th {\n",
       "        vertical-align: top;\n",
       "    }\n",
       "\n",
       "    .dataframe thead th {\n",
       "        text-align: right;\n",
       "    }\n",
       "</style>\n",
       "<table border=\"1\" class=\"dataframe\">\n",
       "  <thead>\n",
       "    <tr style=\"text-align: right;\">\n",
       "      <th></th>\n",
       "      <th>323380</th>\n",
       "      <th>283108</th>\n",
       "    </tr>\n",
       "  </thead>\n",
       "  <tbody>\n",
       "    <tr>\n",
       "      <th>﻿objectNumber</th>\n",
       "      <td>1977.239ab</td>\n",
       "      <td>63.350.213.157.16</td>\n",
       "    </tr>\n",
       "    <tr>\n",
       "      <th>isHighlight</th>\n",
       "      <td>False</td>\n",
       "      <td>False</td>\n",
       "    </tr>\n",
       "    <tr>\n",
       "      <th>isTimelineWork</th>\n",
       "      <td>False</td>\n",
       "      <td>False</td>\n",
       "    </tr>\n",
       "    <tr>\n",
       "      <th>isPublicDomain</th>\n",
       "      <td>True</td>\n",
       "      <td>False</td>\n",
       "    </tr>\n",
       "    <tr>\n",
       "      <th>objectID</th>\n",
       "      <td>481659</td>\n",
       "      <td>419850</td>\n",
       "    </tr>\n",
       "    <tr>\n",
       "      <th>galleryNumber</th>\n",
       "      <td>556</td>\n",
       "      <td>NaN</td>\n",
       "    </tr>\n",
       "    <tr>\n",
       "      <th>department</th>\n",
       "      <td>Modern and Contemporary Art</td>\n",
       "      <td>Drawings and Prints</td>\n",
       "    </tr>\n",
       "    <tr>\n",
       "      <th>accessionYear</th>\n",
       "      <td>1977</td>\n",
       "      <td>1963</td>\n",
       "    </tr>\n",
       "    <tr>\n",
       "      <th>objectName</th>\n",
       "      <td>Box with lid</td>\n",
       "      <td>Photograph</td>\n",
       "    </tr>\n",
       "    <tr>\n",
       "      <th>title</th>\n",
       "      <td>Box with lid</td>\n",
       "      <td>From the Sunny South series (N157) for Kimball...</td>\n",
       "    </tr>\n",
       "    <tr>\n",
       "      <th>culture</th>\n",
       "      <td>NaN</td>\n",
       "      <td>NaN</td>\n",
       "    </tr>\n",
       "    <tr>\n",
       "      <th>period</th>\n",
       "      <td>NaN</td>\n",
       "      <td>NaN</td>\n",
       "    </tr>\n",
       "    <tr>\n",
       "      <th>dynasty</th>\n",
       "      <td>NaN</td>\n",
       "      <td>NaN</td>\n",
       "    </tr>\n",
       "    <tr>\n",
       "      <th>reign</th>\n",
       "      <td>NaN</td>\n",
       "      <td>NaN</td>\n",
       "    </tr>\n",
       "    <tr>\n",
       "      <th>portfolio</th>\n",
       "      <td>NaN</td>\n",
       "      <td>NaN</td>\n",
       "    </tr>\n",
       "    <tr>\n",
       "      <th>constituentID</th>\n",
       "      <td>16191515174</td>\n",
       "      <td>10450</td>\n",
       "    </tr>\n",
       "    <tr>\n",
       "      <th>artistRole</th>\n",
       "      <td>Designer|Manufacturer</td>\n",
       "      <td>Publisher</td>\n",
       "    </tr>\n",
       "    <tr>\n",
       "      <th>artistPrefix</th>\n",
       "      <td>|</td>\n",
       "      <td>Issued by</td>\n",
       "    </tr>\n",
       "    <tr>\n",
       "      <th>artistDisplayName</th>\n",
       "      <td>Emile Gallé|Établissements Gallé</td>\n",
       "      <td>American Tobacco Company</td>\n",
       "    </tr>\n",
       "    <tr>\n",
       "      <th>artistDisplayBio</th>\n",
       "      <td>French, Nancy 1846–1904 Nancy|</td>\n",
       "      <td>NaN</td>\n",
       "    </tr>\n",
       "    <tr>\n",
       "      <th>artistSuffix</th>\n",
       "      <td>|</td>\n",
       "      <td>NaN</td>\n",
       "    </tr>\n",
       "    <tr>\n",
       "      <th>artistAlphaSort</th>\n",
       "      <td>Gallé, Emile|Gallé Établissements</td>\n",
       "      <td>American Tobacco Company</td>\n",
       "    </tr>\n",
       "    <tr>\n",
       "      <th>artistNationality</th>\n",
       "      <td>French|</td>\n",
       "      <td>NaN</td>\n",
       "    </tr>\n",
       "    <tr>\n",
       "      <th>artistBeginDate</th>\n",
       "      <td>1846      |</td>\n",
       "      <td></td>\n",
       "    </tr>\n",
       "    <tr>\n",
       "      <th>artistEndDate</th>\n",
       "      <td>1904      |</td>\n",
       "      <td></td>\n",
       "    </tr>\n",
       "    <tr>\n",
       "      <th>artistGender</th>\n",
       "      <td>|</td>\n",
       "      <td>NaN</td>\n",
       "    </tr>\n",
       "    <tr>\n",
       "      <th>artistUlanUrl</th>\n",
       "      <td>http://vocab.getty.edu/page/ulan/500094535|</td>\n",
       "      <td>(not assigned)</td>\n",
       "    </tr>\n",
       "    <tr>\n",
       "      <th>artistWikidataUrl</th>\n",
       "      <td>https://www.wikidata.org/wiki/Q275085|</td>\n",
       "      <td>https://www.wikidata.org/wiki/Q467075</td>\n",
       "    </tr>\n",
       "    <tr>\n",
       "      <th>objectDate</th>\n",
       "      <td>ca. 1880</td>\n",
       "      <td>1890</td>\n",
       "    </tr>\n",
       "    <tr>\n",
       "      <th>objectBeginDate</th>\n",
       "      <td>1875</td>\n",
       "      <td>1890</td>\n",
       "    </tr>\n",
       "    <tr>\n",
       "      <th>objectEndDate</th>\n",
       "      <td>1885</td>\n",
       "      <td>1890</td>\n",
       "    </tr>\n",
       "    <tr>\n",
       "      <th>medium</th>\n",
       "      <td>Glass</td>\n",
       "      <td>Albumen photograph</td>\n",
       "    </tr>\n",
       "    <tr>\n",
       "      <th>dimensions</th>\n",
       "      <td>H. 2-3/4 (7), W. 6-3/4 inches\\n(7 x 17.1 cm.)\\n</td>\n",
       "      <td>Sheet: 4 1/16 x 2 3/8 in. (10.3 x 6 cm)</td>\n",
       "    </tr>\n",
       "    <tr>\n",
       "      <th>creditLine</th>\n",
       "      <td>Purchase, Bequest of Barbara S. Adler, by exch...</td>\n",
       "      <td>The Jefferson R. Burdick Collection, Gift of J...</td>\n",
       "    </tr>\n",
       "    <tr>\n",
       "      <th>geographyType</th>\n",
       "      <td>NaN</td>\n",
       "      <td>NaN</td>\n",
       "    </tr>\n",
       "    <tr>\n",
       "      <th>city</th>\n",
       "      <td>NaN</td>\n",
       "      <td>NaN</td>\n",
       "    </tr>\n",
       "    <tr>\n",
       "      <th>state</th>\n",
       "      <td>NaN</td>\n",
       "      <td>NaN</td>\n",
       "    </tr>\n",
       "    <tr>\n",
       "      <th>county</th>\n",
       "      <td>NaN</td>\n",
       "      <td>NaN</td>\n",
       "    </tr>\n",
       "    <tr>\n",
       "      <th>country</th>\n",
       "      <td>NaN</td>\n",
       "      <td>NaN</td>\n",
       "    </tr>\n",
       "    <tr>\n",
       "      <th>region</th>\n",
       "      <td>NaN</td>\n",
       "      <td>NaN</td>\n",
       "    </tr>\n",
       "    <tr>\n",
       "      <th>subregion</th>\n",
       "      <td>NaN</td>\n",
       "      <td>NaN</td>\n",
       "    </tr>\n",
       "    <tr>\n",
       "      <th>locale</th>\n",
       "      <td>NaN</td>\n",
       "      <td>NaN</td>\n",
       "    </tr>\n",
       "    <tr>\n",
       "      <th>locus</th>\n",
       "      <td>NaN</td>\n",
       "      <td>NaN</td>\n",
       "    </tr>\n",
       "    <tr>\n",
       "      <th>excavation</th>\n",
       "      <td>NaN</td>\n",
       "      <td>NaN</td>\n",
       "    </tr>\n",
       "    <tr>\n",
       "      <th>river</th>\n",
       "      <td>NaN</td>\n",
       "      <td>NaN</td>\n",
       "    </tr>\n",
       "    <tr>\n",
       "      <th>classification</th>\n",
       "      <td>Glass</td>\n",
       "      <td>Photographs|Ephemera</td>\n",
       "    </tr>\n",
       "    <tr>\n",
       "      <th>rightsAndReproduction</th>\n",
       "      <td>NaN</td>\n",
       "      <td>NaN</td>\n",
       "    </tr>\n",
       "    <tr>\n",
       "      <th>linkResource</th>\n",
       "      <td>http://www.metmuseum.org/art/collection/search...</td>\n",
       "      <td>http://www.metmuseum.org/art/collection/search...</td>\n",
       "    </tr>\n",
       "    <tr>\n",
       "      <th>objectWikidataUrl</th>\n",
       "      <td>https://www.wikidata.org/wiki/Q116275408</td>\n",
       "      <td>NaN</td>\n",
       "    </tr>\n",
       "    <tr>\n",
       "      <th>metadataDate</th>\n",
       "      <td>NaN</td>\n",
       "      <td>NaN</td>\n",
       "    </tr>\n",
       "    <tr>\n",
       "      <th>repository</th>\n",
       "      <td>Metropolitan Museum of Art, New York, NY</td>\n",
       "      <td>Metropolitan Museum of Art, New York, NY</td>\n",
       "    </tr>\n",
       "    <tr>\n",
       "      <th>tags</th>\n",
       "      <td>Boxes</td>\n",
       "      <td>NaN</td>\n",
       "    </tr>\n",
       "    <tr>\n",
       "      <th>tagsAatUrl</th>\n",
       "      <td>http://vocab.getty.edu/page/aat/300045643</td>\n",
       "      <td>NaN</td>\n",
       "    </tr>\n",
       "    <tr>\n",
       "      <th>tagsWikiUrl</th>\n",
       "      <td>https://www.wikidata.org/wiki/Q188075</td>\n",
       "      <td>NaN</td>\n",
       "    </tr>\n",
       "  </tbody>\n",
       "</table>\n",
       "</div>"
      ],
      "text/plain": [
       "                                                                  323380  \\\n",
       "﻿objectNumber                                                 1977.239ab   \n",
       "isHighlight                                                        False   \n",
       "isTimelineWork                                                     False   \n",
       "isPublicDomain                                                      True   \n",
       "objectID                                                          481659   \n",
       "galleryNumber                                                        556   \n",
       "department                                   Modern and Contemporary Art   \n",
       "accessionYear                                                       1977   \n",
       "objectName                                                  Box with lid   \n",
       "title                                                       Box with lid   \n",
       "culture                                                              NaN   \n",
       "period                                                               NaN   \n",
       "dynasty                                                              NaN   \n",
       "reign                                                                NaN   \n",
       "portfolio                                                            NaN   \n",
       "constituentID                                                16191515174   \n",
       "artistRole                                         Designer|Manufacturer   \n",
       "artistPrefix                                                          |    \n",
       "artistDisplayName                       Emile Gallé|Établissements Gallé   \n",
       "artistDisplayBio                         French, Nancy 1846–1904 Nancy|    \n",
       "artistSuffix                                                          |    \n",
       "artistAlphaSort                        Gallé, Emile|Gallé Établissements   \n",
       "artistNationality                                               French|    \n",
       "artistBeginDate                                    1846      |             \n",
       "artistEndDate                                      1904      |             \n",
       "artistGender                                                           |   \n",
       "artistUlanUrl                http://vocab.getty.edu/page/ulan/500094535|   \n",
       "artistWikidataUrl                 https://www.wikidata.org/wiki/Q275085|   \n",
       "objectDate                                                      ca. 1880   \n",
       "objectBeginDate                                                     1875   \n",
       "objectEndDate                                                       1885   \n",
       "medium                                                             Glass   \n",
       "dimensions               H. 2-3/4 (7), W. 6-3/4 inches\\n(7 x 17.1 cm.)\\n   \n",
       "creditLine             Purchase, Bequest of Barbara S. Adler, by exch...   \n",
       "geographyType                                                        NaN   \n",
       "city                                                                 NaN   \n",
       "state                                                                NaN   \n",
       "county                                                               NaN   \n",
       "country                                                              NaN   \n",
       "region                                                               NaN   \n",
       "subregion                                                            NaN   \n",
       "locale                                                               NaN   \n",
       "locus                                                                NaN   \n",
       "excavation                                                           NaN   \n",
       "river                                                                NaN   \n",
       "classification                                                     Glass   \n",
       "rightsAndReproduction                                                NaN   \n",
       "linkResource           http://www.metmuseum.org/art/collection/search...   \n",
       "objectWikidataUrl               https://www.wikidata.org/wiki/Q116275408   \n",
       "metadataDate                                                         NaN   \n",
       "repository                      Metropolitan Museum of Art, New York, NY   \n",
       "tags                                                               Boxes   \n",
       "tagsAatUrl                     http://vocab.getty.edu/page/aat/300045643   \n",
       "tagsWikiUrl                        https://www.wikidata.org/wiki/Q188075   \n",
       "\n",
       "                                                                  283108  \n",
       "﻿objectNumber                                          63.350.213.157.16  \n",
       "isHighlight                                                        False  \n",
       "isTimelineWork                                                     False  \n",
       "isPublicDomain                                                     False  \n",
       "objectID                                                          419850  \n",
       "galleryNumber                                                        NaN  \n",
       "department                                           Drawings and Prints  \n",
       "accessionYear                                                       1963  \n",
       "objectName                                                    Photograph  \n",
       "title                  From the Sunny South series (N157) for Kimball...  \n",
       "culture                                                              NaN  \n",
       "period                                                               NaN  \n",
       "dynasty                                                              NaN  \n",
       "reign                                                                NaN  \n",
       "portfolio                                                            NaN  \n",
       "constituentID                                                      10450  \n",
       "artistRole                                                     Publisher  \n",
       "artistPrefix                                                   Issued by  \n",
       "artistDisplayName                               American Tobacco Company  \n",
       "artistDisplayBio                                                     NaN  \n",
       "artistSuffix                                                         NaN  \n",
       "artistAlphaSort                                 American Tobacco Company  \n",
       "artistNationality                                                    NaN  \n",
       "artistBeginDate                                                           \n",
       "artistEndDate                                                             \n",
       "artistGender                                                         NaN  \n",
       "artistUlanUrl                                             (not assigned)  \n",
       "artistWikidataUrl                  https://www.wikidata.org/wiki/Q467075  \n",
       "objectDate                                                          1890  \n",
       "objectBeginDate                                                     1890  \n",
       "objectEndDate                                                       1890  \n",
       "medium                                                Albumen photograph  \n",
       "dimensions                       Sheet: 4 1/16 x 2 3/8 in. (10.3 x 6 cm)  \n",
       "creditLine             The Jefferson R. Burdick Collection, Gift of J...  \n",
       "geographyType                                                        NaN  \n",
       "city                                                                 NaN  \n",
       "state                                                                NaN  \n",
       "county                                                               NaN  \n",
       "country                                                              NaN  \n",
       "region                                                               NaN  \n",
       "subregion                                                            NaN  \n",
       "locale                                                               NaN  \n",
       "locus                                                                NaN  \n",
       "excavation                                                           NaN  \n",
       "river                                                                NaN  \n",
       "classification                                      Photographs|Ephemera  \n",
       "rightsAndReproduction                                                NaN  \n",
       "linkResource           http://www.metmuseum.org/art/collection/search...  \n",
       "objectWikidataUrl                                                    NaN  \n",
       "metadataDate                                                         NaN  \n",
       "repository                      Metropolitan Museum of Art, New York, NY  \n",
       "tags                                                                 NaN  \n",
       "tagsAatUrl                                                           NaN  \n",
       "tagsWikiUrl                                                          NaN  "
      ]
     },
     "execution_count": 9,
     "metadata": {},
     "output_type": "execute_result"
    }
   ],
   "source": [
    "data.sample(2).T"
   ]
  },
  {
   "cell_type": "code",
   "execution_count": 10,
   "metadata": {},
   "outputs": [
    {
     "data": {
      "text/plain": [
       "True"
      ]
     },
     "execution_count": 10,
     "metadata": {},
     "output_type": "execute_result"
    }
   ],
   "source": [
    "# Existencia de valores null \n",
    "data.isnull().values.any()"
   ]
  },
  {
   "cell_type": "code",
   "execution_count": 11,
   "metadata": {},
   "outputs": [
    {
     "name": "stdout",
     "output_type": "stream",
     "text": [
      "['galleryNumber', 'accessionYear', 'objectName', 'title', 'culture', 'period', 'dynasty', 'reign', 'portfolio', 'constituentID', 'artistRole', 'artistPrefix', 'artistDisplayName', 'artistDisplayBio', 'artistSuffix', 'artistAlphaSort', 'artistNationality', 'artistBeginDate', 'artistEndDate', 'artistGender', 'artistUlanUrl', 'artistWikidataUrl', 'objectDate', 'medium', 'dimensions', 'creditLine', 'geographyType', 'city', 'state', 'county', 'country', 'region', 'subregion', 'locale', 'locus', 'excavation', 'river', 'classification', 'rightsAndReproduction', 'objectWikidataUrl', 'metadataDate', 'tags', 'tagsAatUrl', 'tagsWikiUrl']\n"
     ]
    }
   ],
   "source": [
    "# Ubicación de los valores null\n",
    "def get_cols_missing_val(df):\n",
    "    cols_missing_val = df.columns[df.isnull().any()].tolist()\n",
    "    return cols_missing_val\n",
    "print(get_cols_missing_val(data))"
   ]
  },
  {
   "cell_type": "code",
   "execution_count": 12,
   "metadata": {},
   "outputs": [],
   "source": [
    "# Porcentaje de valores null en cada variable\n",
    "def calculate_missing_percentage(df):\n",
    "    cols_missing_val_percentage = {}\n",
    "    cols_missing_val = get_cols_missing_val(df)\n",
    "    for col in cols_missing_val:\n",
    "        percentage = (df[col].isnull().sum())\n",
    "        dimension = len(df)\n",
    "        final_percentage = round((percentage/dimension)*100,4)\n",
    "        cols_missing_val_percentage[col] = final_percentage\n",
    "    return  cols_missing_val_percentage        "
   ]
  },
  {
   "cell_type": "code",
   "execution_count": 13,
   "metadata": {},
   "outputs": [
    {
     "name": "stdout",
     "output_type": "stream",
     "text": [
      "{'galleryNumber': 89.7844, 'accessionYear': 0.7964, 'objectName': 0.4673, 'title': 5.9106, 'culture': 57.0703, 'period': 81.2059, 'dynasty': 95.2159, 'reign': 97.6831, 'portfolio': 94.5327, 'constituentID': 41.7446, 'artistRole': 41.7446, 'artistPrefix': 71.989, 'artistDisplayName': 41.7446, 'artistDisplayBio': 49.4272, 'artistSuffix': 78.988, 'artistAlphaSort': 41.7607, 'artistNationality': 47.1082, 'artistBeginDate': 41.7446, 'artistEndDate': 41.7446, 'artistGender': 78.043, 'artistUlanUrl': 53.1007, 'artistWikidataUrl': 53.7686, 'objectDate': 2.7695, 'medium': 1.4876, 'dimensions': 15.4771, 'creditLine': 0.1342, 'geographyType': 87.6362, 'city': 93.246, 'state': 99.4595, 'county': 98.2351, 'country': 84.327, 'region': 93.5046, 'subregion': 95.434, 'locale': 96.7546, 'locus': 98.4498, 'excavation': 96.583, 'river': 99.5686, 'classification': 16.2318, 'rightsAndReproduction': 94.942, 'objectWikidataUrl': 85.7401, 'metadataDate': 100.0, 'tags': 60.315, 'tagsAatUrl': 60.4129, 'tagsWikiUrl': 60.4011}\n"
     ]
    }
   ],
   "source": [
    "print(calculate_missing_percentage(data))"
   ]
  },
  {
   "cell_type": "code",
   "execution_count": 14,
   "metadata": {},
   "outputs": [],
   "source": [
    "data['country'].fillna('Unknown', inplace = True)\n",
    "data['artistDisplayName'].fillna('Anonymous', inplace = True)"
   ]
  },
  {
   "cell_type": "code",
   "execution_count": 15,
   "metadata": {},
   "outputs": [],
   "source": [
    "# Debido a que hay una gran cantidad de columnas que se encuentran predominantemente vacías, se decide que aquellas cuyo porcentaje de nulidad\n",
    "# exceda al 60%, se eliminarán del estudio. Esto a excepción de la columna de país, ya que esta se imputará más tarde con la nacionalidad del artista\n",
    "cols_missing_val_percentage = calculate_missing_percentage(data)\n",
    "for col, percentage in cols_missing_val_percentage.items():\n",
    "    if percentage >= 60:\n",
    "        data = data.drop(col, axis=1)"
   ]
  },
  {
   "cell_type": "code",
   "execution_count": 16,
   "metadata": {},
   "outputs": [],
   "source": [
    "# Se reduce la dimensionalidad del dataset eliminando las columnas innecesarias para el objeto de este proyecto \n",
    "\n",
    "filtered_columns = ['objectID', 'isHighlight', 'accessionYear', 'isPublicDomain', 'department', 'objectName', 'title', 'country',\n",
    "                    'artistDisplayName', 'artistNationality', 'objectBeginDate', 'objectEndDate', 'culture', 'classification', 'linkResource']\n",
    "\n",
    "filtered_data = data[filtered_columns]"
   ]
  },
  {
   "cell_type": "markdown",
   "metadata": {},
   "source": [
    "Imputación de valores faltantes "
   ]
  },
  {
   "cell_type": "code",
   "execution_count": 17,
   "metadata": {},
   "outputs": [
    {
     "name": "stderr",
     "output_type": "stream",
     "text": [
      "C:\\Users\\nikky\\AppData\\Local\\Temp\\ipykernel_43484\\698884717.py:4: SettingWithCopyWarning: \n",
      "A value is trying to be set on a copy of a slice from a DataFrame\n",
      "\n",
      "See the caveats in the documentation: https://pandas.pydata.org/pandas-docs/stable/user_guide/indexing.html#returning-a-view-versus-a-copy\n",
      "  filtered_data.dropna(subset = ['accessionYear'], inplace = True)\n"
     ]
    }
   ],
   "source": [
    "# Dado que accessionYear tiene menos de 1% de missing values, se opta por eliminar los registros que no tienen la fecha de adquisión de la obra\n",
    "# por parte del MET \n",
    "\n",
    "filtered_data.dropna(subset = ['accessionYear'], inplace = True)"
   ]
  },
  {
   "cell_type": "code",
   "execution_count": 18,
   "metadata": {},
   "outputs": [
    {
     "data": {
      "text/html": [
       "<div>\n",
       "<style scoped>\n",
       "    .dataframe tbody tr th:only-of-type {\n",
       "        vertical-align: middle;\n",
       "    }\n",
       "\n",
       "    .dataframe tbody tr th {\n",
       "        vertical-align: top;\n",
       "    }\n",
       "\n",
       "    .dataframe thead th {\n",
       "        text-align: right;\n",
       "    }\n",
       "</style>\n",
       "<table border=\"1\" class=\"dataframe\">\n",
       "  <thead>\n",
       "    <tr style=\"text-align: right;\">\n",
       "      <th></th>\n",
       "      <th>objectName</th>\n",
       "      <th>title</th>\n",
       "      <th>artistNationality</th>\n",
       "      <th>culture</th>\n",
       "      <th>classification</th>\n",
       "    </tr>\n",
       "  </thead>\n",
       "  <tbody>\n",
       "    <tr>\n",
       "      <th>objectName</th>\n",
       "      <td>1.000000</td>\n",
       "      <td>-0.006836</td>\n",
       "      <td>-0.015560</td>\n",
       "      <td>0.040939</td>\n",
       "      <td>-0.016189</td>\n",
       "    </tr>\n",
       "    <tr>\n",
       "      <th>title</th>\n",
       "      <td>-0.006836</td>\n",
       "      <td>1.000000</td>\n",
       "      <td>0.185855</td>\n",
       "      <td>-0.288463</td>\n",
       "      <td>-0.109700</td>\n",
       "    </tr>\n",
       "    <tr>\n",
       "      <th>artistNationality</th>\n",
       "      <td>-0.015560</td>\n",
       "      <td>0.185855</td>\n",
       "      <td>1.000000</td>\n",
       "      <td>-0.508066</td>\n",
       "      <td>0.157922</td>\n",
       "    </tr>\n",
       "    <tr>\n",
       "      <th>culture</th>\n",
       "      <td>0.040939</td>\n",
       "      <td>-0.288463</td>\n",
       "      <td>-0.508066</td>\n",
       "      <td>1.000000</td>\n",
       "      <td>-0.167600</td>\n",
       "    </tr>\n",
       "    <tr>\n",
       "      <th>classification</th>\n",
       "      <td>-0.016189</td>\n",
       "      <td>-0.109700</td>\n",
       "      <td>0.157922</td>\n",
       "      <td>-0.167600</td>\n",
       "      <td>1.000000</td>\n",
       "    </tr>\n",
       "  </tbody>\n",
       "</table>\n",
       "</div>"
      ],
      "text/plain": [
       "                   objectName     title  artistNationality   culture  \\\n",
       "objectName           1.000000 -0.006836          -0.015560  0.040939   \n",
       "title               -0.006836  1.000000           0.185855 -0.288463   \n",
       "artistNationality   -0.015560  0.185855           1.000000 -0.508066   \n",
       "culture              0.040939 -0.288463          -0.508066  1.000000   \n",
       "classification      -0.016189 -0.109700           0.157922 -0.167600   \n",
       "\n",
       "                   classification  \n",
       "objectName              -0.016189  \n",
       "title                   -0.109700  \n",
       "artistNationality        0.157922  \n",
       "culture                 -0.167600  \n",
       "classification           1.000000  "
      ]
     },
     "execution_count": 18,
     "metadata": {},
     "output_type": "execute_result"
    }
   ],
   "source": [
    "# Se analiza la correlación de las demás variables con valores nulos \n",
    "\n",
    "cols_missing_val = filtered_data.columns[filtered_data.isnull().any()].tolist()\n",
    "df_missing_data = filtered_data[cols_missing_val].copy()\n",
    "df_missing_data.isnull().corr()"
   ]
  },
  {
   "cell_type": "code",
   "execution_count": 19,
   "metadata": {},
   "outputs": [
    {
     "data": {
      "text/plain": [
       "<Axes: >"
      ]
     },
     "execution_count": 19,
     "metadata": {},
     "output_type": "execute_result"
    },
    {
     "data": {
      "image/png": "[encoded data removed]",
      "text/plain": [
       "<Figure size 1000x1000 with 2 Axes>"
      ]
     },
     "metadata": {},
     "output_type": "display_data"
    }
   ],
   "source": [
    "# Lo anterior, representado visualmente sería: \n",
    "msno.heatmap(filtered_data[cols_missing_val],figsize=(10,10))"
   ]
  },
  {
   "cell_type": "code",
   "execution_count": 20,
   "metadata": {},
   "outputs": [
    {
     "data": {
      "text/plain": [
       "<Axes: >"
      ]
     },
     "execution_count": 20,
     "metadata": {},
     "output_type": "execute_result"
    },
    {
     "data": {
      "image/png": "[encoded data removed]",
      "text/plain": [
       "<Figure size 2000x800 with 2 Axes>"
      ]
     },
     "metadata": {},
     "output_type": "display_data"
    }
   ],
   "source": [
    "msno.matrix(filtered_data[cols_missing_val],width_ratios=(10,1),\\\n",
    "            figsize=(20,8),color=(0.2,0.2,0.2),fontsize=18,sparkline=True,labels=True)"
   ]
  },
  {
   "cell_type": "code",
   "execution_count": 21,
   "metadata": {},
   "outputs": [
    {
     "name": "stderr",
     "output_type": "stream",
     "text": [
      "C:\\Users\\nikky\\AppData\\Local\\Temp\\ipykernel_43484\\3109365828.py:6: SettingWithCopyWarning: \n",
      "A value is trying to be set on a copy of a slice from a DataFrame\n",
      "\n",
      "See the caveats in the documentation: https://pandas.pydata.org/pandas-docs/stable/user_guide/indexing.html#returning-a-view-versus-a-copy\n",
      "  filtered_data[col].fillna('Unknown', inplace = True)\n"
     ]
    }
   ],
   "source": [
    "# Es muy común que existan obras de artistas desconocidos. Además, teniendo en cuenta la correlacion perfecta (1)\n",
    "# entre las variables artistDisplayName y artistNationality se opta por imputar los valores nulos de ambas columnas con el \n",
    "# string 'Unknown'.\n",
    "# La afirmación anterior es válida para las demás columnas: objectName, title, culture y classification. \n",
    "for col in cols_missing_val:\n",
    "    filtered_data[col].fillna('Unknown', inplace = True)"
   ]
  },
  {
   "cell_type": "code",
   "execution_count": 22,
   "metadata": {},
   "outputs": [],
   "source": [
    "df = filtered_data.copy()\n",
    "# Define a mapping dictionary\n",
    "mapping = {'True': True, 'False': False}\n",
    "\n",
    "# Map the values in the 'column' using the mapping dictionary\n",
    "df['isHighlight'] = df['isHighlight'].map(mapping)\n",
    "df['isPublicDomain'] = df['isPublicDomain'].map(mapping)\n",
    "df = df.astype({'department': 'string', 'title': 'string', 'objectName': 'string', 'artistDisplayName': 'string', 'artistNationality': 'string', 'culture': 'string', 'classification': 'string', 'linkResource': 'string'})"
   ]
  },
  {
   "cell_type": "code",
   "execution_count": 23,
   "metadata": {},
   "outputs": [
    {
     "name": "stderr",
     "output_type": "stream",
     "text": [
      "<>:3: SyntaxWarning: invalid escape sequence '\\|'\n",
      "<>:3: SyntaxWarning: invalid escape sequence '\\|'\n",
      "C:\\Users\\nikky\\AppData\\Local\\Temp\\ipykernel_43484\\3805233418.py:3: SyntaxWarning: invalid escape sequence '\\|'\n",
      "  artist_nationalities_list = artist_nationalities.split(\"\\|\")\n"
     ]
    }
   ],
   "source": [
    "# Function to extract the first nationality for each artist\n",
    "def extract_first_nationality(artist_nationalities):\n",
    "    artist_nationalities_list = artist_nationalities.split(\"\\|\")\n",
    "    first_nationalities = []\n",
    "    for nationality in artist_nationalities_list:\n",
    "        first_nationality = nationality.replace(\",\", \" \").split(\" \")[0].strip()\n",
    "        first_nationalities.append(first_nationality)\n",
    "    return \"|\".join(first_nationalities)\n"
   ]
  },
  {
   "cell_type": "code",
   "execution_count": 24,
   "metadata": {},
   "outputs": [],
   "source": [
    "# Function to map nationality to country using the mapper\n",
    "def map_to_country(nationality):\n",
    "    return mapper.get_country_by_nationality(nationality)"
   ]
  },
  {
   "cell_type": "code",
   "execution_count": 25,
   "metadata": {},
   "outputs": [],
   "source": [
    "\n",
    "# Apply the extraction function to the artistNationality column\n",
    "df['first_nationalities'] = df['artistNationality'].apply(extract_first_nationality)\n",
    "\n",
    "# Apply the mapping function to each nationality in the list to get the country\n",
    "df['artistCountry'] = df['first_nationalities'].apply(lambda x: \"|\".join(map(map_to_country, x.split(\"|\"))))"
   ]
  },
  {
   "cell_type": "code",
   "execution_count": 26,
   "metadata": {},
   "outputs": [],
   "source": [
    "def determine_prevalent_country(country_counts):\n",
    "    max_count = max(country_counts.values())\n",
    "    max_countries = [country for country, count in country_counts.items() if count == max_count]\n",
    "    if len(max_countries) == 1:\n",
    "        return max_countries[0]\n",
    "    elif len(max_countries) > 1:\n",
    "        return 'Other'\n",
    "    else:\n",
    "        return None"
   ]
  },
  {
   "cell_type": "code",
   "execution_count": 27,
   "metadata": {},
   "outputs": [],
   "source": [
    "# Function to preprocess artistCountry and count occurrences of each country\n",
    "def preprocess_and_count_countries(countries_str):\n",
    "    countries = countries_str.split('|')\n",
    "    country_counts = {}\n",
    "    for country in countries:\n",
    "        if country != 'Unknown':\n",
    "            if country in country_counts:\n",
    "                country_counts[country] += 1\n",
    "            else:\n",
    "                country_counts[country] = 1\n",
    "    return country_counts"
   ]
  },
  {
   "cell_type": "code",
   "execution_count": 28,
   "metadata": {},
   "outputs": [],
   "source": [
    "# Function to update artistCountry based on the prevalent country\n",
    "def update_artist_country(row):\n",
    "    country_counts = preprocess_and_count_countries(row['artistCountry'])\n",
    "    \n",
    "    if not country_counts:\n",
    "        return 'Unknown'\n",
    "    \n",
    "    if len(country_counts) == 1:\n",
    "        return list(country_counts.keys())[0]\n",
    "    else:\n",
    "        prevalent_country = determine_prevalent_country(country_counts)\n",
    "        return prevalent_country"
   ]
  },
  {
   "cell_type": "code",
   "execution_count": 29,
   "metadata": {},
   "outputs": [],
   "source": [
    "def update_country(row):\n",
    "    country_counts = preprocess_and_count_countries(row['country'])\n",
    "    \n",
    "    if not country_counts:\n",
    "        return 'Unknown'\n",
    "    \n",
    "    if len(country_counts) == 1:\n",
    "        return list(country_counts.keys())[0]\n",
    "    else:\n",
    "        prevalent_country = determine_prevalent_country(country_counts)\n",
    "        return prevalent_country"
   ]
  },
  {
   "cell_type": "code",
   "execution_count": 30,
   "metadata": {},
   "outputs": [],
   "source": [
    "# Apply the function to each row of the DataFrame\n",
    "df['artistCountry'] = df.apply(update_artist_country, axis=1)\n",
    "df['country'] = df['country'].mask(df['country'] == 'Unknown', df['artistCountry'])\n",
    "# Drop column: 'first_nationalities'\n",
    "df = df.drop(columns=['first_nationalities', 'artistCountry'])"
   ]
  },
  {
   "cell_type": "code",
   "execution_count": 31,
   "metadata": {},
   "outputs": [],
   "source": [
    "country_values = df['country'].unique().tolist()"
   ]
  },
  {
   "cell_type": "code",
   "execution_count": 32,
   "metadata": {},
   "outputs": [],
   "source": [
    "def get_inconsistent_countries(country_values):\n",
    "    # Regular expression pattern to match non-standard delimiters\n",
    "    non_standard_delimiters_pattern = r'[;:]'\n",
    "\n",
    "    # List of ambiguous descriptions\n",
    "    ambiguous_descriptions = ['possibly', 'probably', 'etc']\n",
    "\n",
    "    # Constructing the regular expression pattern to match entire words\n",
    "    ambiguous_words_pattern = r'\\b(?:' + '|'.join(ambiguous_descriptions) + r')\\b'\n",
    "\n",
    "    # List to store inconsistencies\n",
    "    inconsistencies = []\n",
    "\n",
    "    for value in country_values:\n",
    "        # Check for non-standard delimiters\n",
    "        if re.search(non_standard_delimiters_pattern, value):\n",
    "            inconsistencies.append(value)\n",
    "        # Check for ambiguous descriptions\n",
    "        elif re.search(ambiguous_words_pattern, value.lower()):\n",
    "            inconsistencies.append(value)\n",
    "    return inconsistencies\n"
   ]
  },
  {
   "cell_type": "code",
   "execution_count": 33,
   "metadata": {},
   "outputs": [],
   "source": [
    "inconsistent_values = get_inconsistent_countries(country_values)"
   ]
  },
  {
   "cell_type": "code",
   "execution_count": 34,
   "metadata": {},
   "outputs": [],
   "source": [
    "def find_closest_match(value, known_values):\n",
    "    match, score = process.extractOne(value, known_values)\n",
    "    if score >= 90:  # Adjust the threshold as needed\n",
    "        return match\n",
    "    else:\n",
    "        return None"
   ]
  },
  {
   "cell_type": "code",
   "execution_count": 35,
   "metadata": {},
   "outputs": [],
   "source": [
    "# Function to standardize values using known mappings\n",
    "def standardize_value(value, known_mappings):\n",
    "    for standard_value, synonyms in known_mappings.items():\n",
    "        if value in synonyms:\n",
    "            return standard_value\n",
    "    closest_match = find_closest_match(value, known_mappings.keys())\n",
    "    if closest_match:\n",
    "        return closest_match\n",
    "    return value  # Return the original value if no match is found"
   ]
  },
  {
   "cell_type": "code",
   "execution_count": 39,
   "metadata": {},
   "outputs": [],
   "source": [
    "# Get the known mappings from the Mapper instance\n",
    "known_mappings = mapper.get_known_mappings()\n",
    "\n",
    "# Standardize inconsistent values\n",
    "standardized_values = [standardize_value(value, known_mappings) for value in inconsistent_values]\n",
    "standardized_values = [standardize_value(value, known_mappings) for value in standardized_values]"
   ]
  },
  {
   "cell_type": "code",
   "execution_count": 37,
   "metadata": {},
   "outputs": [],
   "source": [
    "filtered_df = df[df['country'].isin(inconsistent_values)]"
   ]
  },
  {
   "cell_type": "code",
   "execution_count": 38,
   "metadata": {},
   "outputs": [
    {
     "name": "stderr",
     "output_type": "stream",
     "text": [
      "C:\\Users\\nikky\\AppData\\Local\\Temp\\ipykernel_43484\\4093991077.py:2: SettingWithCopyWarning: \n",
      "A value is trying to be set on a copy of a slice from a DataFrame.\n",
      "Try using .loc[row_indexer,col_indexer] = value instead\n",
      "\n",
      "See the caveats in the documentation: https://pandas.pydata.org/pandas-docs/stable/user_guide/indexing.html#returning-a-view-versus-a-copy\n",
      "  filtered_df['country'] = filtered_df['country'].apply(lambda x: standardize_value(x, known_mappings))\n"
     ]
    }
   ],
   "source": [
    "# Standardize inconsistent values in the 'country' column\n",
    "filtered_df['country'] = filtered_df['country'].apply(lambda x: standardize_value(x, known_mappings))"
   ]
  },
  {
   "cell_type": "code",
   "execution_count": 39,
   "metadata": {},
   "outputs": [],
   "source": [
    "df.to_csv('./data/cleaned_data.csv')"
   ]
  }
 ],
 "metadata": {
  "kernelspec": {
   "display_name": "base",
   "language": "python",
   "name": "python3"
  },
  "language_info": {
   "codemirror_mode": {
    "name": "ipython",
    "version": 3
   },
   "file_extension": ".py",
   "mimetype": "text/x-python",
   "name": "python",
   "nbconvert_exporter": "python",
   "pygments_lexer": "ipython3",
   "version": "3.12.0"
  }
 },
 "nbformat": 4,
 "nbformat_minor": 2
}
